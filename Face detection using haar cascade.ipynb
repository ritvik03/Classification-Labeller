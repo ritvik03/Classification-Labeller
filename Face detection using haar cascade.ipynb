{
 "cells": [
  {
   "cell_type": "code",
   "execution_count": 1,
   "metadata": {},
   "outputs": [],
   "source": [
    "import cv2\n",
    "import numpy as np"
   ]
  },
  {
   "cell_type": "code",
   "execution_count": 2,
   "metadata": {},
   "outputs": [],
   "source": [
    "face_classifier = cv2.CascadeClassifier(\"haarcascade_frontalface_default.xml\")"
   ]
  },
  {
   "cell_type": "code",
   "execution_count": 3,
   "metadata": {},
   "outputs": [],
   "source": [
    "def face_detector(img,size=0.5):\n",
    "    gray = cv2.cvtColor (img, cv2.COLOR_BGR2GRAY)\n",
    "    faces = face_classifier.detectMultiScale (gray, 1.3, 5)\n",
    "    if faces is ():\n",
    "        return img\n",
    "    for (x, y, w, h) in faces:\n",
    "        x = x - 10\n",
    "        w = w + 10\n",
    "        y = y - 10\n",
    "        h = h + 10\n",
    "        cv2.rectangle (img, (x, y), (x+w, y+h), (255, 0, 0), 2)\n",
    "        roi_gray = gray[y: y+h, x: x+w]\n",
    "        roi_color = img[y: y+h, x: x+w]\n",
    "    return img\n",
    "    #return roi_color"
   ]
  },
  {
   "cell_type": "code",
   "execution_count": 4,
   "metadata": {
    "scrolled": true
   },
   "outputs": [],
   "source": [
    "cap = cv2.VideoCapture (0)\n",
    "while True:\n",
    "    ret, frame = cap.read ()\n",
    "    cv2.imshow (\"Our Face Extractor\", face_detector (frame))\n",
    "    if cv2.waitKey (1) == 13: #13 is the Enter Key\n",
    "        break"
   ]
  },
  {
   "cell_type": "code",
   "execution_count": 5,
   "metadata": {},
   "outputs": [],
   "source": [
    "cap.release ()\n",
    "cv2.destroyAllWindows ()"
   ]
  }
 ],
 "metadata": {
  "kernelspec": {
   "display_name": "Python 3",
   "language": "python",
   "name": "python3"
  },
  "language_info": {
   "codemirror_mode": {
    "name": "ipython",
    "version": 3
   },
   "file_extension": ".py",
   "mimetype": "text/x-python",
   "name": "python",
   "nbconvert_exporter": "python",
   "pygments_lexer": "ipython3",
   "version": "3.6.8"
  }
 },
 "nbformat": 4,
 "nbformat_minor": 2
}
